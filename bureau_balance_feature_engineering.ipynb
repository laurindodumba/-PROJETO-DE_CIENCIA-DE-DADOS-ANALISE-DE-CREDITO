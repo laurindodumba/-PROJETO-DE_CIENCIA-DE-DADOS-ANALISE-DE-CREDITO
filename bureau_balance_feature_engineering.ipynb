{
  "nbformat": 4,
  "nbformat_minor": 0,
  "metadata": {
    "colab": {
      "provenance": []
    },
    "kernelspec": {
      "name": "python3",
      "display_name": "Python 3"
    },
    "language_info": {
      "name": "python"
    }
  },
  "cells": [
    {
      "cell_type": "markdown",
      "source": [
        "## Configuração do ambiente para utilização do Spark"
      ],
      "metadata": {
        "id": "NgggkCM4ZiPr"
      }
    },
    {
      "cell_type": "code",
      "execution_count": 1,
      "metadata": {
        "id": "MRIpH5X_LZve"
      },
      "outputs": [],
      "source": [
        "!apt-get install openjdk-8-jdk-headless -qq > /dev/null\n",
        "\n",
        "# Fazendo download\n",
        "!wget -q https://archive.apache.org/dist/spark/spark-3.1.2/spark-3.1.2-bin-hadoop2.7.tgz\n",
        "\n",
        "# Descompactando os arquivos\n",
        "!tar xf spark-3.1.2-bin-hadoop2.7.tgz\n",
        "\n",
        "# Importando a biblioteca os\n",
        "import os\n",
        "\n",
        "# Definindo a variável de ambiente do Java\n",
        "os.environ[\"JAVA_HOME\"] = \"/usr/lib/jvm/java-8-openjdk-amd64\"\n",
        "\n",
        "# Definindo a variável de ambiente do Spark\n",
        "os.environ[\"SPARK_HOME\"] = \"/content/spark-3.1.2-bin-hadoop2.7\"\n",
        "\n",
        "\n",
        "# instalando a findspark\n",
        "!pip install -q findspark\n",
        "\n",
        "# Importando a findspark\n",
        "import findspark\n",
        "\n",
        "# Iniciando o findspark\n",
        "findspark.init()\n",
        "\n",
        "from pyspark.sql import SparkSession\n",
        "spark = SparkSession \\\n",
        "        .builder \\\n",
        "        .appName(\"Minha Primeira Aplicação no Pyspark\") \\\n",
        "        .getOrCreate()\n",
        "\n",
        "import os\n",
        "import sys\n",
        "\n",
        "os.environ['PYSPARK_PYTHON'] = sys.executable\n",
        "os.environ['PYSPARK_DRIVER_PYTHON'] = sys.executable"
      ]
    },
    {
      "cell_type": "markdown",
      "source": [
        "## Leitura dos dados"
      ],
      "metadata": {
        "id": "JJorJJaLZnBW"
      }
    },
    {
      "cell_type": "code",
      "source": [
        "# Lê o arquivo Parquet\n",
        "dados = spark.read.csv(\"/content/drive/MyDrive/bases_dados_projeto_credito/bureau_balance.csv\",header=True)\n",
        "\n",
        "# Mostra os dados\n",
        "dados.show()"
      ],
      "metadata": {
        "colab": {
          "base_uri": "https://localhost:8080/"
        },
        "id": "KEjMU_OyOFgE",
        "outputId": "1bb53408-b8ac-4a67-f216-0ff075df60f2"
      },
      "execution_count": 2,
      "outputs": [
        {
          "output_type": "stream",
          "name": "stdout",
          "text": [
            "+------------+--------------+------+\n",
            "|SK_ID_BUREAU|MONTHS_BALANCE|STATUS|\n",
            "+------------+--------------+------+\n",
            "|     5715448|             0|     C|\n",
            "|     5715448|            -1|     C|\n",
            "|     5715448|            -2|     C|\n",
            "|     5715448|            -3|     C|\n",
            "|     5715448|            -4|     C|\n",
            "|     5715448|            -5|     C|\n",
            "|     5715448|            -6|     C|\n",
            "|     5715448|            -7|     C|\n",
            "|     5715448|            -8|     C|\n",
            "|     5715448|            -9|     0|\n",
            "|     5715448|           -10|     0|\n",
            "|     5715448|           -11|     X|\n",
            "|     5715448|           -12|     X|\n",
            "|     5715448|           -13|     X|\n",
            "|     5715448|           -14|     0|\n",
            "|     5715448|           -15|     0|\n",
            "|     5715448|           -16|     0|\n",
            "|     5715448|           -17|     0|\n",
            "|     5715448|           -18|     0|\n",
            "|     5715448|           -19|     0|\n",
            "+------------+--------------+------+\n",
            "only showing top 20 rows\n",
            "\n"
          ]
        }
      ]
    },
    {
      "cell_type": "markdown",
      "source": [
        "## Sumarização na visão cliente"
      ],
      "metadata": {
        "id": "t5kFKw9-ZptZ"
      }
    },
    {
      "cell_type": "markdown",
      "source": [
        "## Criação de flags para nos auxiliar na visão temporal dos dados"
      ],
      "metadata": {
        "id": "GJXv07zlZ9MQ"
      }
    },
    {
      "cell_type": "code",
      "source": [
        "## Habilitando uso do SparkSQL\n",
        "dados.createOrReplaceTempView(\"dados\")\n",
        "\n",
        "df_temp_01 = spark.sql(\"\"\"\n",
        "SELECT\n",
        "    *,\n",
        "      CASE\n",
        "        WHEN MONTHS_BALANCE >= -3 THEN 1\n",
        "        ELSE 0\n",
        "    END AS ultimos_3_meses,\n",
        "    CASE\n",
        "        WHEN MONTHS_BALANCE >= -6 THEN 1\n",
        "        ELSE 0\n",
        "    END AS ultimos_6_meses,\n",
        "    CASE\n",
        "        WHEN MONTHS_BALANCE >= -12 THEN 1\n",
        "        ELSE 0\n",
        "    END AS ultimos_12_meses,\n",
        "    CASE\n",
        "        WHEN MONTHS_BALANCE >= -24 THEN 1\n",
        "        ELSE 0\n",
        "    END AS ultimos_24_meses,\n",
        "    CASE\n",
        "        WHEN MONTHS_BALANCE >= -36 THEN 1\n",
        "        ELSE 0\n",
        "    END AS ultimos_36_meses\n",
        "FROM dados\n",
        "ORDER BY `SK_ID_BUREAU`;\n",
        "\"\"\")\n",
        "df_temp_01.createOrReplaceTempView(\"df_temp_01\")\n",
        "df_temp_01.show()"
      ],
      "metadata": {
        "colab": {
          "base_uri": "https://localhost:8080/"
        },
        "id": "Ys5pHLB2QJlF",
        "outputId": "fc951323-d4a4-443d-b766-9bba9e261679"
      },
      "execution_count": 17,
      "outputs": [
        {
          "output_type": "stream",
          "name": "stdout",
          "text": [
            "+------------+--------------+------+---------------+---------------+----------------+----------------+----------------+\n",
            "|SK_ID_BUREAU|MONTHS_BALANCE|STATUS|ultimos_3_meses|ultimos_6_meses|ultimos_12_meses|ultimos_24_meses|ultimos_36_meses|\n",
            "+------------+--------------+------+---------------+---------------+----------------+----------------+----------------+\n",
            "|     5001709|           -18|     C|              0|              0|               0|               1|               1|\n",
            "|     5001709|           -10|     C|              0|              0|               1|               1|               1|\n",
            "|     5001709|           -17|     C|              0|              0|               0|               1|               1|\n",
            "|     5001709|            -5|     C|              0|              1|               1|               1|               1|\n",
            "|     5001709|            -9|     C|              0|              0|               1|               1|               1|\n",
            "|     5001709|           -13|     C|              0|              0|               0|               1|               1|\n",
            "|     5001709|           -16|     C|              0|              0|               0|               1|               1|\n",
            "|     5001709|            -1|     C|              1|              1|               1|               1|               1|\n",
            "|     5001709|            -4|     C|              0|              1|               1|               1|               1|\n",
            "|     5001709|            -7|     C|              0|              0|               1|               1|               1|\n",
            "|     5001709|            -8|     C|              0|              0|               1|               1|               1|\n",
            "|     5001709|           -11|     C|              0|              0|               1|               1|               1|\n",
            "|     5001709|           -12|     C|              0|              0|               1|               1|               1|\n",
            "|     5001709|           -14|     C|              0|              0|               0|               1|               1|\n",
            "|     5001709|           -15|     C|              0|              0|               0|               1|               1|\n",
            "|     5001709|             0|     C|              1|              1|               1|               1|               1|\n",
            "|     5001709|           -20|     C|              0|              0|               0|               1|               1|\n",
            "|     5001709|            -2|     C|              1|              1|               1|               1|               1|\n",
            "|     5001709|            -3|     C|              1|              1|               1|               1|               1|\n",
            "|     5001709|            -6|     C|              0|              1|               1|               1|               1|\n",
            "+------------+--------------+------+---------------+---------------+----------------+----------------+----------------+\n",
            "only showing top 20 rows\n",
            "\n"
          ]
        }
      ]
    },
    {
      "cell_type": "code",
      "source": [
        "## Habilitando uso do SparkSQL\n",
        "df_temp_01.createOrReplaceTempView(\"df_temp_01\")\n",
        "\n",
        "df_temp_02 = spark.sql(\"\"\"\n",
        "SELECT\n",
        "    *,\n",
        "      CASE\n",
        "        WHEN STATUS = \"C\" THEN 1\n",
        "        ELSE 0\n",
        "    END AS STATUS_C,\n",
        "    CASE\n",
        "        WHEN STATUS = \"3\" THEN 1\n",
        "        ELSE 0\n",
        "    END AS STATUS_3,\n",
        "    CASE\n",
        "        WHEN STATUS = \"0\" THEN 1\n",
        "        ELSE 0\n",
        "    END AS STATUS_0,\n",
        "    CASE\n",
        "        WHEN STATUS = \"2\" THEN 1\n",
        "        ELSE 0\n",
        "    END AS STATUS_2,\n",
        "    CASE\n",
        "        WHEN STATUS = \"X\" THEN 1\n",
        "        ELSE 0\n",
        "    END AS STATUS_X,\n",
        "    CASE\n",
        "        WHEN STATUS = \"5\" THEN 1\n",
        "        ELSE 0\n",
        "    END AS STATUS_5,\n",
        "    CASE\n",
        "        WHEN STATUS = \"1\" THEN 1\n",
        "        ELSE 0\n",
        "    END AS STATUS_1\n",
        "FROM df_temp_01\n",
        "ORDER BY `SK_ID_BUREAU`;\n",
        "\"\"\")\n",
        "df_temp_02.createOrReplaceTempView(\"df_temp_01\")\n",
        "df_temp_02.show()"
      ],
      "metadata": {
        "colab": {
          "base_uri": "https://localhost:8080/"
        },
        "id": "mJQ-lub6CFF2",
        "outputId": "459e83a5-c893-4001-b330-be4b07f7dd6b"
      },
      "execution_count": 20,
      "outputs": [
        {
          "output_type": "stream",
          "name": "stdout",
          "text": [
            "+------------+--------------+------+---------------+---------------+----------------+----------------+----------------+--------+--------+--------+--------+--------+--------+--------+\n",
            "|SK_ID_BUREAU|MONTHS_BALANCE|STATUS|ultimos_3_meses|ultimos_6_meses|ultimos_12_meses|ultimos_24_meses|ultimos_36_meses|STATUS_C|STATUS_3|STATUS_0|STATUS_2|STATUS_X|STATUS_5|STATUS_1|\n",
            "+------------+--------------+------+---------------+---------------+----------------+----------------+----------------+--------+--------+--------+--------+--------+--------+--------+\n",
            "|     5001709|           -18|     C|              0|              0|               0|               1|               1|       1|       0|       0|       0|       0|       0|       0|\n",
            "|     5001709|           -10|     C|              0|              0|               1|               1|               1|       1|       0|       0|       0|       0|       0|       0|\n",
            "|     5001709|           -17|     C|              0|              0|               0|               1|               1|       1|       0|       0|       0|       0|       0|       0|\n",
            "|     5001709|            -5|     C|              0|              1|               1|               1|               1|       1|       0|       0|       0|       0|       0|       0|\n",
            "|     5001709|            -9|     C|              0|              0|               1|               1|               1|       1|       0|       0|       0|       0|       0|       0|\n",
            "|     5001709|           -13|     C|              0|              0|               0|               1|               1|       1|       0|       0|       0|       0|       0|       0|\n",
            "|     5001709|           -16|     C|              0|              0|               0|               1|               1|       1|       0|       0|       0|       0|       0|       0|\n",
            "|     5001709|            -1|     C|              1|              1|               1|               1|               1|       1|       0|       0|       0|       0|       0|       0|\n",
            "|     5001709|            -4|     C|              0|              1|               1|               1|               1|       1|       0|       0|       0|       0|       0|       0|\n",
            "|     5001709|            -7|     C|              0|              0|               1|               1|               1|       1|       0|       0|       0|       0|       0|       0|\n",
            "|     5001709|            -8|     C|              0|              0|               1|               1|               1|       1|       0|       0|       0|       0|       0|       0|\n",
            "|     5001709|           -11|     C|              0|              0|               1|               1|               1|       1|       0|       0|       0|       0|       0|       0|\n",
            "|     5001709|           -12|     C|              0|              0|               1|               1|               1|       1|       0|       0|       0|       0|       0|       0|\n",
            "|     5001709|           -14|     C|              0|              0|               0|               1|               1|       1|       0|       0|       0|       0|       0|       0|\n",
            "|     5001709|           -15|     C|              0|              0|               0|               1|               1|       1|       0|       0|       0|       0|       0|       0|\n",
            "|     5001709|             0|     C|              1|              1|               1|               1|               1|       1|       0|       0|       0|       0|       0|       0|\n",
            "|     5001709|           -20|     C|              0|              0|               0|               1|               1|       1|       0|       0|       0|       0|       0|       0|\n",
            "|     5001709|            -2|     C|              1|              1|               1|               1|               1|       1|       0|       0|       0|       0|       0|       0|\n",
            "|     5001709|            -3|     C|              1|              1|               1|               1|               1|       1|       0|       0|       0|       0|       0|       0|\n",
            "|     5001709|            -6|     C|              0|              1|               1|               1|               1|       1|       0|       0|       0|       0|       0|       0|\n",
            "+------------+--------------+------+---------------+---------------+----------------+----------------+----------------+--------+--------+--------+--------+--------+--------+--------+\n",
            "only showing top 20 rows\n",
            "\n"
          ]
        }
      ]
    },
    {
      "cell_type": "markdown",
      "source": [
        "## Sumarizar na visão cliente (Automatizada)"
      ],
      "metadata": {
        "id": "4v3veSKPaHYM"
      }
    },
    {
      "cell_type": "code",
      "source": [
        "from pyspark.sql.functions import col, round, sum, avg, max, min, when, count\n",
        "\n",
        "# Definir as colunas para agregação\n",
        "colunas_agregacao_total = ['STATUS_C','STATUS_3','STATUS_0','STATUS_2','STATUS_X','STATUS_5','STATUS_1']\n",
        "\n",
        "colunas_flags = ['ultimos_3_meses','ultimos_6_meses','ultimos_12_meses','ultimos_24_meses','ultimos_36_meses']\n",
        "\n",
        "expressoes_agregacao = []\n",
        "\n",
        "for flag in colunas_flags:\n",
        "  for coluna in colunas_agregacao_total:\n",
        "    expressoes_agregacao.append(round(count(when(col(flag) == 1, col(coluna))), 2).alias(f\"QTD_{coluna.upper()}_{flag.upper()}\"))\n",
        "\n",
        "expressoes_agregacao = tuple(expressoes_agregacao)\n",
        "\n",
        "# Aplicar as expressões de agregação\n",
        "df_temp_03 = df_temp_02.groupBy(\"SK_ID_BUREAU\").agg(*expressoes_agregacao).orderBy(\"SK_ID_BUREAU\")\n",
        "\n",
        "# Mostrar o DataFrame resultante\n",
        "df_temp_03.show()"
      ],
      "metadata": {
        "colab": {
          "base_uri": "https://localhost:8080/"
        },
        "id": "xv1KhqmuQUn7",
        "outputId": "faf3d059-6a0d-47f2-98bd-5953b72fecf4"
      },
      "execution_count": 21,
      "outputs": [
        {
          "output_type": "stream",
          "name": "stdout",
          "text": [
            "+------------+----------------------------+----------------------------+----------------------------+----------------------------+----------------------------+----------------------------+----------------------------+----------------------------+----------------------------+----------------------------+----------------------------+----------------------------+----------------------------+----------------------------+-----------------------------+-----------------------------+-----------------------------+-----------------------------+-----------------------------+-----------------------------+-----------------------------+-----------------------------+-----------------------------+-----------------------------+-----------------------------+-----------------------------+-----------------------------+-----------------------------+-----------------------------+-----------------------------+-----------------------------+-----------------------------+-----------------------------+-----------------------------+-----------------------------+\n",
            "|SK_ID_BUREAU|QTD_STATUS_C_ULTIMOS_3_MESES|QTD_STATUS_3_ULTIMOS_3_MESES|QTD_STATUS_0_ULTIMOS_3_MESES|QTD_STATUS_2_ULTIMOS_3_MESES|QTD_STATUS_X_ULTIMOS_3_MESES|QTD_STATUS_5_ULTIMOS_3_MESES|QTD_STATUS_1_ULTIMOS_3_MESES|QTD_STATUS_C_ULTIMOS_6_MESES|QTD_STATUS_3_ULTIMOS_6_MESES|QTD_STATUS_0_ULTIMOS_6_MESES|QTD_STATUS_2_ULTIMOS_6_MESES|QTD_STATUS_X_ULTIMOS_6_MESES|QTD_STATUS_5_ULTIMOS_6_MESES|QTD_STATUS_1_ULTIMOS_6_MESES|QTD_STATUS_C_ULTIMOS_12_MESES|QTD_STATUS_3_ULTIMOS_12_MESES|QTD_STATUS_0_ULTIMOS_12_MESES|QTD_STATUS_2_ULTIMOS_12_MESES|QTD_STATUS_X_ULTIMOS_12_MESES|QTD_STATUS_5_ULTIMOS_12_MESES|QTD_STATUS_1_ULTIMOS_12_MESES|QTD_STATUS_C_ULTIMOS_24_MESES|QTD_STATUS_3_ULTIMOS_24_MESES|QTD_STATUS_0_ULTIMOS_24_MESES|QTD_STATUS_2_ULTIMOS_24_MESES|QTD_STATUS_X_ULTIMOS_24_MESES|QTD_STATUS_5_ULTIMOS_24_MESES|QTD_STATUS_1_ULTIMOS_24_MESES|QTD_STATUS_C_ULTIMOS_36_MESES|QTD_STATUS_3_ULTIMOS_36_MESES|QTD_STATUS_0_ULTIMOS_36_MESES|QTD_STATUS_2_ULTIMOS_36_MESES|QTD_STATUS_X_ULTIMOS_36_MESES|QTD_STATUS_5_ULTIMOS_36_MESES|QTD_STATUS_1_ULTIMOS_36_MESES|\n",
            "+------------+----------------------------+----------------------------+----------------------------+----------------------------+----------------------------+----------------------------+----------------------------+----------------------------+----------------------------+----------------------------+----------------------------+----------------------------+----------------------------+----------------------------+-----------------------------+-----------------------------+-----------------------------+-----------------------------+-----------------------------+-----------------------------+-----------------------------+-----------------------------+-----------------------------+-----------------------------+-----------------------------+-----------------------------+-----------------------------+-----------------------------+-----------------------------+-----------------------------+-----------------------------+-----------------------------+-----------------------------+-----------------------------+-----------------------------+\n",
            "|     5001709|                           4|                           4|                           4|                           4|                           4|                           4|                           4|                           7|                           7|                           7|                           7|                           7|                           7|                           7|                           13|                           13|                           13|                           13|                           13|                           13|                           13|                           25|                           25|                           25|                           25|                           25|                           25|                           25|                           37|                           37|                           37|                           37|                           37|                           37|                           37|\n",
            "|     5001710|                           4|                           4|                           4|                           4|                           4|                           4|                           4|                           7|                           7|                           7|                           7|                           7|                           7|                           7|                           13|                           13|                           13|                           13|                           13|                           13|                           13|                           25|                           25|                           25|                           25|                           25|                           25|                           25|                           37|                           37|                           37|                           37|                           37|                           37|                           37|\n",
            "|     5001711|                           4|                           4|                           4|                           4|                           4|                           4|                           4|                           4|                           4|                           4|                           4|                           4|                           4|                           4|                            4|                            4|                            4|                            4|                            4|                            4|                            4|                            4|                            4|                            4|                            4|                            4|                            4|                            4|                            4|                            4|                            4|                            4|                            4|                            4|                            4|\n",
            "|     5001712|                           4|                           4|                           4|                           4|                           4|                           4|                           4|                           7|                           7|                           7|                           7|                           7|                           7|                           7|                           13|                           13|                           13|                           13|                           13|                           13|                           13|                           19|                           19|                           19|                           19|                           19|                           19|                           19|                           19|                           19|                           19|                           19|                           19|                           19|                           19|\n",
            "|     5001713|                           4|                           4|                           4|                           4|                           4|                           4|                           4|                           7|                           7|                           7|                           7|                           7|                           7|                           7|                           13|                           13|                           13|                           13|                           13|                           13|                           13|                           22|                           22|                           22|                           22|                           22|                           22|                           22|                           22|                           22|                           22|                           22|                           22|                           22|                           22|\n",
            "|     5001714|                           4|                           4|                           4|                           4|                           4|                           4|                           4|                           7|                           7|                           7|                           7|                           7|                           7|                           7|                           13|                           13|                           13|                           13|                           13|                           13|                           13|                           15|                           15|                           15|                           15|                           15|                           15|                           15|                           15|                           15|                           15|                           15|                           15|                           15|                           15|\n",
            "|     5001715|                           4|                           4|                           4|                           4|                           4|                           4|                           4|                           7|                           7|                           7|                           7|                           7|                           7|                           7|                           13|                           13|                           13|                           13|                           13|                           13|                           13|                           25|                           25|                           25|                           25|                           25|                           25|                           25|                           37|                           37|                           37|                           37|                           37|                           37|                           37|\n",
            "|     5001716|                           4|                           4|                           4|                           4|                           4|                           4|                           4|                           7|                           7|                           7|                           7|                           7|                           7|                           7|                           13|                           13|                           13|                           13|                           13|                           13|                           13|                           25|                           25|                           25|                           25|                           25|                           25|                           25|                           37|                           37|                           37|                           37|                           37|                           37|                           37|\n",
            "|     5001717|                           4|                           4|                           4|                           4|                           4|                           4|                           4|                           7|                           7|                           7|                           7|                           7|                           7|                           7|                           13|                           13|                           13|                           13|                           13|                           13|                           13|                           22|                           22|                           22|                           22|                           22|                           22|                           22|                           22|                           22|                           22|                           22|                           22|                           22|                           22|\n",
            "|     5001718|                           4|                           4|                           4|                           4|                           4|                           4|                           4|                           7|                           7|                           7|                           7|                           7|                           7|                           7|                           13|                           13|                           13|                           13|                           13|                           13|                           13|                           25|                           25|                           25|                           25|                           25|                           25|                           25|                           37|                           37|                           37|                           37|                           37|                           37|                           37|\n",
            "|     5001719|                           4|                           4|                           4|                           4|                           4|                           4|                           4|                           7|                           7|                           7|                           7|                           7|                           7|                           7|                           13|                           13|                           13|                           13|                           13|                           13|                           13|                           25|                           25|                           25|                           25|                           25|                           25|                           25|                           37|                           37|                           37|                           37|                           37|                           37|                           37|\n",
            "|     5001720|                           4|                           4|                           4|                           4|                           4|                           4|                           4|                           7|                           7|                           7|                           7|                           7|                           7|                           7|                           13|                           13|                           13|                           13|                           13|                           13|                           13|                           25|                           25|                           25|                           25|                           25|                           25|                           25|                           36|                           36|                           36|                           36|                           36|                           36|                           36|\n",
            "|     5001721|                           4|                           4|                           4|                           4|                           4|                           4|                           4|                           7|                           7|                           7|                           7|                           7|                           7|                           7|                           13|                           13|                           13|                           13|                           13|                           13|                           13|                           25|                           25|                           25|                           25|                           25|                           25|                           25|                           37|                           37|                           37|                           37|                           37|                           37|                           37|\n",
            "|     5001722|                           4|                           4|                           4|                           4|                           4|                           4|                           4|                           7|                           7|                           7|                           7|                           7|                           7|                           7|                           13|                           13|                           13|                           13|                           13|                           13|                           13|                           25|                           25|                           25|                           25|                           25|                           25|                           25|                           37|                           37|                           37|                           37|                           37|                           37|                           37|\n",
            "|     5001723|                           4|                           4|                           4|                           4|                           4|                           4|                           4|                           7|                           7|                           7|                           7|                           7|                           7|                           7|                           13|                           13|                           13|                           13|                           13|                           13|                           13|                           25|                           25|                           25|                           25|                           25|                           25|                           25|                           31|                           31|                           31|                           31|                           31|                           31|                           31|\n",
            "|     5001724|                           4|                           4|                           4|                           4|                           4|                           4|                           4|                           7|                           7|                           7|                           7|                           7|                           7|                           7|                           13|                           13|                           13|                           13|                           13|                           13|                           13|                           25|                           25|                           25|                           25|                           25|                           25|                           25|                           31|                           31|                           31|                           31|                           31|                           31|                           31|\n",
            "|     5001725|                           4|                           4|                           4|                           4|                           4|                           4|                           4|                           7|                           7|                           7|                           7|                           7|                           7|                           7|                            8|                            8|                            8|                            8|                            8|                            8|                            8|                            8|                            8|                            8|                            8|                            8|                            8|                            8|                            8|                            8|                            8|                            8|                            8|                            8|                            8|\n",
            "|     5001726|                           4|                           4|                           4|                           4|                           4|                           4|                           4|                           7|                           7|                           7|                           7|                           7|                           7|                           7|                           13|                           13|                           13|                           13|                           13|                           13|                           13|                           25|                           25|                           25|                           25|                           25|                           25|                           25|                           37|                           37|                           37|                           37|                           37|                           37|                           37|\n",
            "|     5001727|                           4|                           4|                           4|                           4|                           4|                           4|                           4|                           7|                           7|                           7|                           7|                           7|                           7|                           7|                           13|                           13|                           13|                           13|                           13|                           13|                           13|                           25|                           25|                           25|                           25|                           25|                           25|                           25|                           37|                           37|                           37|                           37|                           37|                           37|                           37|\n",
            "|     5001728|                           1|                           1|                           1|                           1|                           1|                           1|                           1|                           1|                           1|                           1|                           1|                           1|                           1|                           1|                            1|                            1|                            1|                            1|                            1|                            1|                            1|                            1|                            1|                            1|                            1|                            1|                            1|                            1|                            1|                            1|                            1|                            1|                            1|                            1|                            1|\n",
            "+------------+----------------------------+----------------------------+----------------------------+----------------------------+----------------------------+----------------------------+----------------------------+----------------------------+----------------------------+----------------------------+----------------------------+----------------------------+----------------------------+----------------------------+-----------------------------+-----------------------------+-----------------------------+-----------------------------+-----------------------------+-----------------------------+-----------------------------+-----------------------------+-----------------------------+-----------------------------+-----------------------------+-----------------------------+-----------------------------+-----------------------------+-----------------------------+-----------------------------+-----------------------------+-----------------------------+-----------------------------+-----------------------------+-----------------------------+\n",
            "only showing top 20 rows\n",
            "\n"
          ]
        }
      ]
    },
    {
      "cell_type": "markdown",
      "source": [
        "## Salvar a tabela sumarizada"
      ],
      "metadata": {
        "id": "pY8SG8bTaLzc"
      }
    },
    {
      "cell_type": "code",
      "source": [
        "df_temp_03 = df_temp_03.repartition(1)\n",
        "df_temp_03.write.mode(\"overwrite\").csv(\"bureau_balance_agg.csv\",header=True)"
      ],
      "metadata": {
        "id": "HJwDWlMkSxRj"
      },
      "execution_count": 22,
      "outputs": []
    }
  ]
}